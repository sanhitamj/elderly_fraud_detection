{
 "cells": [
  {
   "cell_type": "code",
   "execution_count": 1,
   "metadata": {
    "collapsed": true
   },
   "outputs": [],
   "source": [
    "import pandas as pd\n",
    "import numpy as np\n",
    "import matplotlib.pyplot as plt\n",
    "%matplotlib inline"
   ]
  },
  {
   "cell_type": "code",
   "execution_count": 2,
   "metadata": {
    "collapsed": true
   },
   "outputs": [],
   "source": [
    "df0 = pd.read_csv('expense.csv', index_col = 0)"
   ]
  },
  {
   "cell_type": "code",
   "execution_count": 3,
   "metadata": {
    "collapsed": true
   },
   "outputs": [],
   "source": [
    "expense_collect= dict.fromkeys(['Automobile - Gasoline', 'Automobile - Maintenance', 'Automobile - Payment', \n",
    "                                'Insurance - Auto'], 'Automobile')\n",
    "expense_collect.update(dict.fromkeys(['Taxes - Federal', 'Taxes - State', 'Taxes - Other Taxes'], 'Income Tax'))\n",
    "expense_collect.update(dict.fromkeys(['Taxes - Real Estate', 'Household - Laundry/Dry Cleaning', 'Rent', 'Mortgage',\n",
    "                                      'Household - Maintenance/Repairs', 'Household - Other Household', 'Insurance - Home/Renter', \n",
    "                                      'Fees - Realtor/Appraiser'], 'Household'))\n",
    "expense_collect.update(dict.fromkeys(['Personal Needs', 'Miscellaneous Expense'], 'Personal Misc'))\n",
    "expense_collect.update(dict.fromkeys(['Utilities - Telephone/Internet/Cable', 'Utilities - Garbage', \n",
    "                                      'Utilities - Gas & Electric', 'Utilities - Water/Sewer', \n",
    "                                      'Subscriptions & Dues'], 'Utilities'))\n",
    "expense_collect.update(dict.fromkeys(['Hobby', 'Entertainment', 'Pet Care'], 'Hobbey'))\n",
    "expense_collect.update(dict.fromkeys(['Insurance - Medical', 'Medical - Ambulance/Transport', \n",
    "                                      'Medical - Dental', 'Medical - Doctor/Hospital', 'Medical: Equipment', \n",
    "                                      'Medical - Prescriptions'], 'Medical'))\n",
    "expense_collect.update(dict.fromkeys(['Transportation', 'Travel'], 'Travel'))\n",
    "expense_collect.update(dict.fromkeys(['Fees - Court', 'Fees - Attorney'], 'Court'))\n",
    "expense_collect.update(dict.fromkeys(['Fees - Accountant', 'Bank Service Charges', 'Bond Premium', \n",
    "                                      'Debt - Interest', 'Fees - Late'], 'Banking'))\n",
    "expense_collect.update(dict.fromkeys(['Services - Cleaning', 'Services - Personal Care'], 'Services'))\n",
    "expense_collect.update(dict.fromkeys(['Food - Groceries', 'Food - Dining Out'], 'Food'))\n",
    "expense_collect.update(dict.fromkeys(['Charitable Donation','Gifts Given'], 'Charity Gifts'))\n",
    "\n",
    "expense_collect.update(dict.fromkeys([]))\n",
    "expense_collect['Care Facility'] = 'Care Facility'\n",
    "expense_collect['Fees - Guardian/Conservator'] = 'Fees - Guardian_Conservator'\n",
    "\n",
    "expense_collect['Insurance - Other Insurance'] = 'Insurance - Other Insurance'\n",
    "expense_collect['Clothing'] = 'Clothing'\n",
    "expense_collect['Fees - Other Fees'] = 'Fees - Other Fees'\n",
    "expense_collect['Asset Depreciation'] = 'Asset Depreciation'\n",
    "expense_collect['Personal Property - Purchase'] = 'Personal Property - Purchase'\n",
    "expense_collect['Support Payments'] = 'Support Payments'\n",
    "expense_collect['Funeral'] = 'Funeral'\n",
    "expense_collect['Education'] = 'Education'"
   ]
  },
  {
   "cell_type": "code",
   "execution_count": 4,
   "metadata": {
    "collapsed": false
   },
   "outputs": [
    {
     "data": {
      "text/html": [
       "<div>\n",
       "<table border=\"1\" class=\"dataframe\">\n",
       "  <thead>\n",
       "    <tr style=\"text-align: right;\">\n",
       "      <th></th>\n",
       "      <th>IncExpId</th>\n",
       "      <th>CasFil</th>\n",
       "      <th>Expense</th>\n",
       "      <th>Amount</th>\n",
       "      <th>TranDt</th>\n",
       "      <th>TranCat</th>\n",
       "      <th>TranDescr</th>\n",
       "      <th>CourtOrdTran</th>\n",
       "      <th>CarFac</th>\n",
       "      <th>NumDays</th>\n",
       "      <th>TranCatColl</th>\n",
       "    </tr>\n",
       "  </thead>\n",
       "  <tbody>\n",
       "    <tr>\n",
       "      <th>0</th>\n",
       "      <td>4673</td>\n",
       "      <td>4815</td>\n",
       "      <td>1</td>\n",
       "      <td>1250.0</td>\n",
       "      <td>2014-04-15</td>\n",
       "      <td>185</td>\n",
       "      <td>Care Facility</td>\n",
       "      <td>0</td>\n",
       "      <td>1</td>\n",
       "      <td>1562.0</td>\n",
       "      <td>Care Facility</td>\n",
       "    </tr>\n",
       "    <tr>\n",
       "      <th>1</th>\n",
       "      <td>4674</td>\n",
       "      <td>4815</td>\n",
       "      <td>1</td>\n",
       "      <td>104.0</td>\n",
       "      <td>2014-04-15</td>\n",
       "      <td>214</td>\n",
       "      <td>Personal Needs</td>\n",
       "      <td>0</td>\n",
       "      <td>0</td>\n",
       "      <td>1562.0</td>\n",
       "      <td>Personal Misc</td>\n",
       "    </tr>\n",
       "    <tr>\n",
       "      <th>2</th>\n",
       "      <td>4675</td>\n",
       "      <td>4815</td>\n",
       "      <td>1</td>\n",
       "      <td>352.0</td>\n",
       "      <td>2014-04-15</td>\n",
       "      <td>240</td>\n",
       "      <td>Medical - Prescriptions</td>\n",
       "      <td>0</td>\n",
       "      <td>0</td>\n",
       "      <td>1562.0</td>\n",
       "      <td>Medical</td>\n",
       "    </tr>\n",
       "    <tr>\n",
       "      <th>3</th>\n",
       "      <td>4676</td>\n",
       "      <td>4816</td>\n",
       "      <td>1</td>\n",
       "      <td>500.0</td>\n",
       "      <td>2014-04-15</td>\n",
       "      <td>214</td>\n",
       "      <td>Personal Needs</td>\n",
       "      <td>0</td>\n",
       "      <td>0</td>\n",
       "      <td>1562.0</td>\n",
       "      <td>Personal Misc</td>\n",
       "    </tr>\n",
       "    <tr>\n",
       "      <th>4</th>\n",
       "      <td>4677</td>\n",
       "      <td>4820</td>\n",
       "      <td>1</td>\n",
       "      <td>456.0</td>\n",
       "      <td>2014-04-15</td>\n",
       "      <td>239</td>\n",
       "      <td>Rent</td>\n",
       "      <td>0</td>\n",
       "      <td>0</td>\n",
       "      <td>1562.0</td>\n",
       "      <td>Household</td>\n",
       "    </tr>\n",
       "  </tbody>\n",
       "</table>\n",
       "</div>"
      ],
      "text/plain": [
       "   IncExpId  CasFil  Expense  Amount      TranDt  TranCat  \\\n",
       "0      4673    4815        1  1250.0  2014-04-15      185   \n",
       "1      4674    4815        1   104.0  2014-04-15      214   \n",
       "2      4675    4815        1   352.0  2014-04-15      240   \n",
       "3      4676    4816        1   500.0  2014-04-15      214   \n",
       "4      4677    4820        1   456.0  2014-04-15      239   \n",
       "\n",
       "                 TranDescr  CourtOrdTran  CarFac  NumDays    TranCatColl  \n",
       "0            Care Facility             0       1   1562.0  Care Facility  \n",
       "1           Personal Needs             0       0   1562.0  Personal Misc  \n",
       "2  Medical - Prescriptions             0       0   1562.0        Medical  \n",
       "3           Personal Needs             0       0   1562.0  Personal Misc  \n",
       "4                     Rent             0       0   1562.0      Household  "
      ]
     },
     "execution_count": 4,
     "metadata": {},
     "output_type": "execute_result"
    }
   ],
   "source": [
    "df0['TranCatColl'] = df0['TranDescr'].map(expense_collect)\n",
    "df0.head()"
   ]
  },
  {
   "cell_type": "code",
   "execution_count": 5,
   "metadata": {
    "collapsed": false
   },
   "outputs": [],
   "source": [
    "cat = 'Personal Misc'\n",
    "\n",
    "def counting_neighbours(cat):\n",
    "    average = df0[df0['TranCatColl']==cat].groupby('CasFil')['Amount'].mean()\n",
    "    count = df0[df0['TranCatColl']==cat].groupby('CasFil')['Amount'].count()\n",
    "    dura = df0[df0['TranCatColl']==cat].groupby('CasFil')['NumDays'].mean()\n",
    "    count = np.array(count/dura)\n",
    "    casfil = np.array(dura.index)\n",
    "    aver = np.array(average.values)\n",
    "    norm_aver = aver * np.max(count) / np.max(aver)\n",
    "\n",
    "    arr = np.stack((casfil, count, norm_aver), axis=1)\n",
    "\n",
    "    dist = []\n",
    "    length = len(arr)\n",
    "    for i in xrange(length):\n",
    "        for j in xrange(i+1, length):\n",
    "            dist.append(np.linalg.norm(arr[i, 1:] - arr[j, 1:]))\n",
    "\n",
    "    med = np.median(dist)\n",
    "\n",
    "    neighbours = []\n",
    "    for i in xrange(length):\n",
    "        dist = []\n",
    "        for j in xrange(length):\n",
    "            if i != j:\n",
    "                dist.append(np.linalg.norm(arr[i, 1:] - arr[j, 1:]))\n",
    "        dist = np.array(dist)\n",
    "        neighbours.append(np.sum(dist < med))\n",
    "    neighbours = np.array(neighbours)\n",
    "\n",
    "    arr = np.stack((casfil, count, aver, neighbours), axis =1)\n",
    "\n",
    "    filename = cat + str('.csv')\n",
    "    np.savetxt(filename, arr, delimiter=',')"
   ]
  },
  {
   "cell_type": "code",
   "execution_count": 10,
   "metadata": {
    "collapsed": false
   },
   "outputs": [],
   "source": [
    "cat = 'Personal Misc'\n",
    "counting_neighbours(cat)\n"
   ]
  },
  {
   "cell_type": "code",
   "execution_count": 6,
   "metadata": {
    "collapsed": true
   },
   "outputs": [],
   "source": [
    "collected_categories = df0['TranCatColl'].unique()"
   ]
  },
  {
   "cell_type": "code",
   "execution_count": 8,
   "metadata": {
    "collapsed": false
   },
   "outputs": [
    {
     "data": {
      "text/plain": [
       "array(['Care Facility', 'Personal Misc', 'Medical', 'Household',\n",
       "       'Income Tax', 'Fees - Guardian/Conservator', 'Banking', 'Utilities',\n",
       "       'Insurance - Other Insurance', 'Court', 'Travel', 'Food', 'Hobbey',\n",
       "       'Clothing', 'Charity Gifts', 'Automobile', 'Services',\n",
       "       'Fees - Other Fees', 'Asset Depreciation',\n",
       "       'Personal Property - Purchase', 'Education', 'Support Payments',\n",
       "       'Funeral'], dtype=object)"
      ]
     },
     "execution_count": 8,
     "metadata": {},
     "output_type": "execute_result"
    }
   ],
   "source": [
    "collected_categories"
   ]
  },
  {
   "cell_type": "code",
   "execution_count": 9,
   "metadata": {
    "collapsed": true
   },
   "outputs": [],
   "source": [
    "categories = ['Banking', 'Utilities',\n",
    "       'Insurance - Other Insurance', 'Court', 'Travel', 'Food', 'Hobbey',\n",
    "       'Clothing', 'Charity Gifts', 'Automobile', 'Services',\n",
    "       'Fees - Other Fees', 'Asset Depreciation',\n",
    "       'Personal Property - Purchase', 'Education', 'Support Payments',\n",
    "       'Funeral']"
   ]
  },
  {
   "cell_type": "code",
   "execution_count": 10,
   "metadata": {
    "collapsed": false
   },
   "outputs": [],
   "source": [
    "for cat in categories:\n",
    "    counting_neighbours(cat)"
   ]
  },
  {
   "cell_type": "markdown",
   "metadata": {},
   "source": [
    "Error with 'Fees - Guardian/Conservator'"
   ]
  },
  {
   "cell_type": "code",
   "execution_count": 11,
   "metadata": {
    "collapsed": false
   },
   "outputs": [],
   "source": [
    "cat = 'Fees - Guardian_Conservator'\n",
    "average = df0[df0['TranCatColl']==cat].groupby('CasFil')['Amount'].mean()\n",
    "count = df0[df0['TranCatColl']==cat].groupby('CasFil')['Amount'].count()\n",
    "dura = df0[df0['TranCatColl']==cat].groupby('CasFil')['NumDays'].mean()\n",
    "count = np.array(count/dura)\n",
    "casfil = np.array(dura.index)\n",
    "aver = np.array(average.values)\n",
    "norm_aver = aver * np.max(count) / np.max(aver)\n",
    "\n",
    "arr = np.stack((casfil, count, norm_aver), axis=1)\n",
    "\n",
    "dist = []\n",
    "length = len(arr)\n",
    "for i in xrange(length):\n",
    "    for j in xrange(i+1, length):\n",
    "        dist.append(np.linalg.norm(arr[i, 1:] - arr[j, 1:]))\n",
    "\n",
    "med = np.median(dist)\n",
    "\n",
    "neighbours = []\n",
    "for i in xrange(length):\n",
    "    dist = []\n",
    "    for j in xrange(length):\n",
    "        if i != j:\n",
    "            dist.append(np.linalg.norm(arr[i, 1:] - arr[j, 1:]))\n",
    "    dist = np.array(dist)\n",
    "    neighbours.append(np.sum(dist < med))\n",
    "neighbours = np.array(neighbours)\n",
    "\n",
    "arr = np.stack((casfil, count, aver, neighbours), axis =1)\n",
    "\n",
    "filename = 'fees_guardian_conservator.csv'\n",
    "np.savetxt(filename, arr, delimiter=',')"
   ]
  },
  {
   "cell_type": "code",
   "execution_count": null,
   "metadata": {
    "collapsed": true
   },
   "outputs": [],
   "source": []
  }
 ],
 "metadata": {
  "kernelspec": {
   "display_name": "Python 2",
   "language": "python",
   "name": "python2"
  },
  "language_info": {
   "codemirror_mode": {
    "name": "ipython",
    "version": 2
   },
   "file_extension": ".py",
   "mimetype": "text/x-python",
   "name": "python",
   "nbconvert_exporter": "python",
   "pygments_lexer": "ipython2",
   "version": "2.7.13"
  }
 },
 "nbformat": 4,
 "nbformat_minor": 2
}
