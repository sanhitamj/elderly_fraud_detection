{
 "cells": [
  {
   "cell_type": "code",
   "execution_count": 1,
   "metadata": {
    "collapsed": true
   },
   "outputs": [],
   "source": [
    "from sqlalchemy import create_engine\n",
    "import pandas as pd\n",
    "from pandas.io import sql\n",
    "import numpy as np\n",
    "import matplotlib.pyplot as plt\n",
    "%matplotlib inline\n",
    "import datetime "
   ]
  },
  {
   "cell_type": "code",
   "execution_count": 2,
   "metadata": {
    "collapsed": true
   },
   "outputs": [],
   "source": [
    "def establish_conection(password, databasename = 'ConservatorDatabase', username = 'sa', hostname = 'localhost', port = '1433') :\n",
    "    '''\n",
    "    Establishes sqlalchemy connection to a mssql database\n",
    "\n",
    "    Need to give it a password; default user = sa, port = 1433, hostname = localhost, databasename = ConservatorDatabase\n",
    "    username, password, hostname, port, databasename\n",
    "\n",
    "    returns engine\n",
    "    '''\n",
    "    engine_string = 'mssql+pymssql://' + username + ':' + password + '@' + hostname + ':' + port + '/' + databasename\n",
    "\n",
    "    return create_engine(engine_string)\n",
    "\n",
    "def read_sql_table(tablename):\n",
    "    '''\n",
    "    tablename as a string\n",
    "    read table in pandas, return query as a dataframe\n",
    "    '''\n",
    "\n",
    "    engine = establish_conection(password='gr@vityI13') \n",
    "    # This is a local password, on my laptop; would need to modify for \n",
    "    # other users, computers.\n",
    "\n",
    "    return sql.read_sql_table(tablename, engine)"
   ]
  },
  {
   "cell_type": "code",
   "execution_count": 3,
   "metadata": {
    "collapsed": true
   },
   "outputs": [],
   "source": [
    "df = read_sql_table('IncomeExpenseTransactions')\n",
    "df2 = read_sql_table('TransactionCategories')"
   ]
  },
  {
   "cell_type": "code",
   "execution_count": 5,
   "metadata": {
    "collapsed": false
   },
   "outputs": [
    {
     "data": {
      "text/plain": [
       "Index([u'IncomeExpenseReportId', u'CaseFileReportId', u'AccountId',\n",
       "       u'Description', u'Amount', u'TransactionDate', u'IsIncome',\n",
       "       u'IsExpense', u'TransactionCategoryId', u'CreateDate', u'CreateUserId',\n",
       "       u'LastModDate', u'LastModUserId', u'CourtOrderTransaction',\n",
       "       u'TransactionPaymentTypeId', u'CheckNumber', u'SoldPropertyId',\n",
       "       u'MortgagedRealEstateReportId', u'BoughtPropertyType', u'Amended',\n",
       "       u'BoughtPropertyDescription', u'DateMovedFromCareFacility',\n",
       "       u'RealEstateIncludesPropertyTaxes', u'RealEstatePropertyTaxesAmount',\n",
       "       u'RealEstateIncludesPropertyInsurance',\n",
       "       u'RealEstatePropertyInsuranceAmount',\n",
       "       u'ProtectedPersonLivesAtCareFacility', u'TrustName'],\n",
       "      dtype='object')"
      ]
     },
     "execution_count": 5,
     "metadata": {},
     "output_type": "execute_result"
    }
   ],
   "source": [
    "df. columns"
   ]
  },
  {
   "cell_type": "markdown",
   "metadata": {},
   "source": [
    "## Removing unnecessary data and renaming columns for ease of use"
   ]
  },
  {
   "cell_type": "code",
   "execution_count": 6,
   "metadata": {
    "collapsed": true
   },
   "outputs": [],
   "source": [
    "df['TransactionDate'] = pd.to_datetime(df['TransactionDate'])\n",
    "\n",
    "column_rename = {'IncomeExpenseReportId': 'IncExpId', 'CaseFileReportId': 'CasFil',\n",
    "                 'TransactionDate': 'TranDt',\n",
    "                 'TransactionCategoryId': 'TranCat', 'CourtOrderTransaction': 'CourtOrdTran',\n",
    "                 'ProtectedPersonLivesAtCareFacility': 'CarFac'}\n",
    "\n",
    "df.rename(columns=column_rename, inplace=True)\n",
    "\n",
    "df['Expense'] = df['IsExpense'].astype(int)\n",
    "df['CarFac'] = df['CarFac'].astype(int)\n",
    "df['CourtOrdTran'] = df['CourtOrdTran'].astype(int)\n",
    "\n",
    "del df['CreateUserId']\n",
    "del df['LastModUserId']\n",
    "del df['LastModDate']\n",
    "del df['CheckNumber']\n",
    "del df['Amended']\n",
    "del df['TrustName']\n",
    "del df['IsIncome']\n",
    "del df['IsExpense']"
   ]
  },
  {
   "cell_type": "code",
   "execution_count": 7,
   "metadata": {
    "collapsed": true
   },
   "outputs": [],
   "source": [
    "d_tran = {}\n",
    "\n",
    "trans_cat = df2['TransactionCategoryId'].unique()\n",
    "for i in xrange(len(trans_cat)):\n",
    "    d_tran[df2.iloc[i]['TransactionCategoryId']] = df2.iloc[i]['Description']\n",
    "\n",
    "df['TranDescr'] = df['TranCat'].map(d_tran)\n"
   ]
  },
  {
   "cell_type": "markdown",
   "metadata": {},
   "source": [
    "#### Removing some expense categories, as they do not add to fraud.\n",
    "\n",
    "    * 245 - Transfer to another coount.\n",
    "    * 249 - CAAP Audit Fee \n",
    "    * 228 - "
   ]
  },
  {
   "cell_type": "code",
   "execution_count": 8,
   "metadata": {
    "collapsed": false
   },
   "outputs": [],
   "source": [
    "income_categories = df2[(df2['CategoryTypeId']==2) & (df2['TransactionCategoryId']!=245) & \n",
    "                        (df2['TransactionCategoryId']!=228) & \n",
    "                        (df2['TransactionCategoryId']!=249 )]['TransactionCategoryId'].tolist()"
   ]
  },
  {
   "cell_type": "code",
   "execution_count": 9,
   "metadata": {
    "collapsed": false
   },
   "outputs": [
    {
     "data": {
      "text/html": [
       "<div>\n",
       "<table border=\"1\" class=\"dataframe\">\n",
       "  <thead>\n",
       "    <tr style=\"text-align: right;\">\n",
       "      <th></th>\n",
       "      <th>IncExpId</th>\n",
       "      <th>CasFil</th>\n",
       "      <th>Expense</th>\n",
       "      <th>Amount</th>\n",
       "      <th>TranDt</th>\n",
       "      <th>TranCat</th>\n",
       "      <th>TranDescr</th>\n",
       "      <th>CourtOrdTran</th>\n",
       "      <th>CarFac</th>\n",
       "      <th>NumDays</th>\n",
       "    </tr>\n",
       "  </thead>\n",
       "  <tbody>\n",
       "    <tr>\n",
       "      <th>0</th>\n",
       "      <td>4673</td>\n",
       "      <td>4815</td>\n",
       "      <td>1</td>\n",
       "      <td>1250.0</td>\n",
       "      <td>2014-04-15</td>\n",
       "      <td>185</td>\n",
       "      <td>Care Facility</td>\n",
       "      <td>0</td>\n",
       "      <td>1</td>\n",
       "      <td>1562.0</td>\n",
       "    </tr>\n",
       "    <tr>\n",
       "      <th>1</th>\n",
       "      <td>4674</td>\n",
       "      <td>4815</td>\n",
       "      <td>1</td>\n",
       "      <td>104.0</td>\n",
       "      <td>2014-04-15</td>\n",
       "      <td>214</td>\n",
       "      <td>Personal Needs</td>\n",
       "      <td>0</td>\n",
       "      <td>0</td>\n",
       "      <td>1562.0</td>\n",
       "    </tr>\n",
       "    <tr>\n",
       "      <th>2</th>\n",
       "      <td>4675</td>\n",
       "      <td>4815</td>\n",
       "      <td>1</td>\n",
       "      <td>352.0</td>\n",
       "      <td>2014-04-15</td>\n",
       "      <td>240</td>\n",
       "      <td>Medical - Prescriptions</td>\n",
       "      <td>0</td>\n",
       "      <td>0</td>\n",
       "      <td>1562.0</td>\n",
       "    </tr>\n",
       "    <tr>\n",
       "      <th>3</th>\n",
       "      <td>4676</td>\n",
       "      <td>4816</td>\n",
       "      <td>1</td>\n",
       "      <td>500.0</td>\n",
       "      <td>2014-04-15</td>\n",
       "      <td>214</td>\n",
       "      <td>Personal Needs</td>\n",
       "      <td>0</td>\n",
       "      <td>0</td>\n",
       "      <td>1562.0</td>\n",
       "    </tr>\n",
       "    <tr>\n",
       "      <th>4</th>\n",
       "      <td>4677</td>\n",
       "      <td>4820</td>\n",
       "      <td>1</td>\n",
       "      <td>456.0</td>\n",
       "      <td>2014-04-15</td>\n",
       "      <td>239</td>\n",
       "      <td>Rent</td>\n",
       "      <td>0</td>\n",
       "      <td>0</td>\n",
       "      <td>1562.0</td>\n",
       "    </tr>\n",
       "  </tbody>\n",
       "</table>\n",
       "</div>"
      ],
      "text/plain": [
       "   IncExpId  CasFil  Expense  Amount     TranDt  TranCat  \\\n",
       "0      4673    4815        1  1250.0 2014-04-15      185   \n",
       "1      4674    4815        1   104.0 2014-04-15      214   \n",
       "2      4675    4815        1   352.0 2014-04-15      240   \n",
       "3      4676    4816        1   500.0 2014-04-15      214   \n",
       "4      4677    4820        1   456.0 2014-04-15      239   \n",
       "\n",
       "                 TranDescr  CourtOrdTran  CarFac  NumDays  \n",
       "0            Care Facility             0       1   1562.0  \n",
       "1           Personal Needs             0       0   1562.0  \n",
       "2  Medical - Prescriptions             0       0   1562.0  \n",
       "3           Personal Needs             0       0   1562.0  \n",
       "4                     Rent             0       0   1562.0  "
      ]
     },
     "execution_count": 9,
     "metadata": {},
     "output_type": "execute_result"
    }
   ],
   "source": [
    "columns_to_keep = ['IncExpId', 'CasFil', 'Expense', 'Amount', 'TranDt', 'TranCat', 'TranDescr', 'CourtOrdTran', 'CarFac' ]\n",
    "df = df[(df['TranCat'].isin(income_categories)) & (df['TranDt']> datetime.date(year=2010,month=1,day=1))\n",
    "        & (df['TranDt']<datetime.date(2016, 1, 1))][columns_to_keep]\n",
    "\n",
    "df['NumDays'] = (df['TranDt'] - df['TranDt'].min())/ np.timedelta64(1,'D')\n",
    "\n",
    "\n",
    "df.head()"
   ]
  },
  {
   "cell_type": "code",
   "execution_count": 28,
   "metadata": {
    "collapsed": false
   },
   "outputs": [
    {
     "data": {
      "text/plain": [
       "9125"
      ]
     },
     "execution_count": 28,
     "metadata": {},
     "output_type": "execute_result"
    }
   ],
   "source": [
    "len(df['CasFil'].unique())"
   ]
  },
  {
   "cell_type": "code",
   "execution_count": 10,
   "metadata": {
    "collapsed": true
   },
   "outputs": [],
   "source": [
    "df.to_csv('expense.csv')"
   ]
  },
  {
   "cell_type": "code",
   "execution_count": 11,
   "metadata": {
    "collapsed": false
   },
   "outputs": [],
   "source": [
    "duration = df.groupby(by='CasFil')['NumDays'].max() - df.groupby(by='CasFil')['NumDays'].min()\n",
    "NoCount = df.groupby(by='CasFil')['Amount'].count()\n",
    "Total = df.groupby(by='CasFil')['Amount'].sum()\n",
    "\n",
    "raw = {'Duration': list(duration), 'NumDataPts' : list(NoCount), 'Total' : Total}\n",
    "explore = pd.DataFrame(raw, columns = ['Duration', 'NumDataPts',  'Total'], index=NoCount.index)\n",
    "explore.reset_index(level=0, inplace=True)"
   ]
  },
  {
   "cell_type": "code",
   "execution_count": 12,
   "metadata": {
    "collapsed": false
   },
   "outputs": [],
   "source": [
    "df2[(df2['CategoryTypeId']==2) &(df2['TransactionCategoryId']!=245) & \n",
    "                        (df2['TransactionCategoryId']!=228) & \n",
    "                        (df2['TransactionCategoryId']!=249 )][['TransactionCategoryId', 'Description']].to_csv('expense_description.csv')"
   ]
  },
  {
   "cell_type": "markdown",
   "metadata": {},
   "source": [
    "### Collecting expenses of similar category together.\n",
    "\n",
    "This collapses 57 types of expenses into 23 categories"
   ]
  },
  {
   "cell_type": "code",
   "execution_count": 13,
   "metadata": {
    "collapsed": true
   },
   "outputs": [],
   "source": [
    "expense_collect= dict.fromkeys(['Automobile - Gasoline', 'Automobile - Maintenance', 'Automobile - Payment', \n",
    "                                'Insurance - Auto'], 'Automobile')\n",
    "expense_collect.update(dict.fromkeys(['Fees - Accountant', 'Taxes - Federal', 'Taxes - State', 'Taxes - Other Taxes'], 'Income Tax'))\n",
    "expense_collect.update(dict.fromkeys(['Taxes - Real Estate', 'Household - Laundry/Dry Cleaning', 'Rent', 'Mortgage',\n",
    "                                      'Household - Maintenance/Repairs', 'Household - Other Household', 'Insurance - Home/Renter', \n",
    "                                      'Fees - Realtor/Appraiser'], 'Household'))\n",
    "expense_collect.update(dict.fromkeys(['Personal Needs', 'Miscellaneous Expense'], 'Personal Misc'))\n",
    "expense_collect.update(dict.fromkeys(['Utilities - Telephone/Internet/Cable', 'Utilities - Garbage', \n",
    "                                      'Utilities - Gas & Electric', 'Utilities - Water/Sewer'], 'Utilities'))\n",
    "expense_collect.update(dict.fromkeys(['Hobby', 'Entertainment', 'Pet Care'], 'Hobby'))\n",
    "expense_collect.update(dict.fromkeys(['Insurance - Medical', 'Medical - Ambulance/Transport', \n",
    "                                      'Medical - Dental', 'Medical - Doctor/Hospital', 'Medical: Equipment', \n",
    "                                      'Medical - Prescriptions'], 'Medical'))\n",
    "expense_collect.update(dict.fromkeys(['Transportation', 'Travel'], 'Travel'))\n",
    "expense_collect.update(dict.fromkeys(['Fees - Court', 'Fees - Attorney'], 'Court'))\n",
    "expense_collect.update(dict.fromkeys(['Bank Service Charges', 'Bond Premium', \n",
    "                                      'Debt - Interest', 'Fees - Late'], 'Banking'))\n",
    "expense_collect.update(dict.fromkeys(['Services - Cleaning', 'Services - Personal Care', 'Subscriptions & Dues'], 'Services'))\n",
    "expense_collect.update(dict.fromkeys(['Food - Groceries', 'Food - Dining Out'], 'Food'))\n",
    "expense_collect.update(dict.fromkeys(['Charitable Donation','Gifts Given'], 'Charity Gifts'))\n",
    "\n",
    "expense_collect.update(dict.fromkeys([]))\n",
    "expense_collect['Care Facility'] = 'Care Facility'\n",
    "expense_collect['Fees - Guardian/Conservator'] = 'Fees - Guardian or Conservator'\n",
    "\n",
    "expense_collect['Insurance - Other Insurance'] = 'Insurance - Other Insurance'\n",
    "expense_collect['Clothing'] = 'Clothing'\n",
    "expense_collect['Fees - Other Fees'] = 'Fees - Other Fees'\n",
    "expense_collect['Asset Depreciation'] = 'Asset Depreciation'\n",
    "expense_collect['Personal Property - Purchase'] = 'Personal Property - Purchase'\n",
    "expense_collect['Support Payments'] = 'Support Payments'\n",
    "expense_collect['Funeral'] = 'Funeral'\n",
    "expense_collect['Education'] = 'Education'"
   ]
  },
  {
   "cell_type": "code",
   "execution_count": 59,
   "metadata": {
    "collapsed": false
   },
   "outputs": [
    {
     "data": {
      "text/html": [
       "<div>\n",
       "<table border=\"1\" class=\"dataframe\">\n",
       "  <thead>\n",
       "    <tr style=\"text-align: right;\">\n",
       "      <th></th>\n",
       "      <th>IncExpId</th>\n",
       "      <th>CasFil</th>\n",
       "      <th>Expense</th>\n",
       "      <th>Amount</th>\n",
       "      <th>TranDt</th>\n",
       "      <th>TranCat</th>\n",
       "      <th>TranDescr</th>\n",
       "      <th>CourtOrdTran</th>\n",
       "      <th>CarFac</th>\n",
       "      <th>NumDays</th>\n",
       "      <th>TranCatColl</th>\n",
       "    </tr>\n",
       "  </thead>\n",
       "  <tbody>\n",
       "    <tr>\n",
       "      <th>1159607</th>\n",
       "      <td>1267338</td>\n",
       "      <td>22208</td>\n",
       "      <td>1</td>\n",
       "      <td>7.36</td>\n",
       "      <td>2014-10-27</td>\n",
       "      <td>197</td>\n",
       "      <td>Food - Groceries</td>\n",
       "      <td>0</td>\n",
       "      <td>0</td>\n",
       "      <td>1757.0</td>\n",
       "      <td>Food</td>\n",
       "    </tr>\n",
       "    <tr>\n",
       "      <th>1159608</th>\n",
       "      <td>1267339</td>\n",
       "      <td>22208</td>\n",
       "      <td>1</td>\n",
       "      <td>10.84</td>\n",
       "      <td>2014-10-22</td>\n",
       "      <td>197</td>\n",
       "      <td>Food - Groceries</td>\n",
       "      <td>0</td>\n",
       "      <td>0</td>\n",
       "      <td>1752.0</td>\n",
       "      <td>Food</td>\n",
       "    </tr>\n",
       "    <tr>\n",
       "      <th>1159609</th>\n",
       "      <td>1267340</td>\n",
       "      <td>22208</td>\n",
       "      <td>1</td>\n",
       "      <td>26.56</td>\n",
       "      <td>2014-12-08</td>\n",
       "      <td>197</td>\n",
       "      <td>Food - Groceries</td>\n",
       "      <td>0</td>\n",
       "      <td>0</td>\n",
       "      <td>1799.0</td>\n",
       "      <td>Food</td>\n",
       "    </tr>\n",
       "    <tr>\n",
       "      <th>1159610</th>\n",
       "      <td>1267341</td>\n",
       "      <td>22208</td>\n",
       "      <td>1</td>\n",
       "      <td>27.16</td>\n",
       "      <td>2014-10-29</td>\n",
       "      <td>197</td>\n",
       "      <td>Food - Groceries</td>\n",
       "      <td>0</td>\n",
       "      <td>0</td>\n",
       "      <td>1759.0</td>\n",
       "      <td>Food</td>\n",
       "    </tr>\n",
       "    <tr>\n",
       "      <th>1159612</th>\n",
       "      <td>1267343</td>\n",
       "      <td>22208</td>\n",
       "      <td>1</td>\n",
       "      <td>44.25</td>\n",
       "      <td>2014-12-13</td>\n",
       "      <td>197</td>\n",
       "      <td>Food - Groceries</td>\n",
       "      <td>0</td>\n",
       "      <td>0</td>\n",
       "      <td>1804.0</td>\n",
       "      <td>Food</td>\n",
       "    </tr>\n",
       "  </tbody>\n",
       "</table>\n",
       "</div>"
      ],
      "text/plain": [
       "         IncExpId  CasFil  Expense  Amount     TranDt  TranCat  \\\n",
       "1159607   1267338   22208        1    7.36 2014-10-27      197   \n",
       "1159608   1267339   22208        1   10.84 2014-10-22      197   \n",
       "1159609   1267340   22208        1   26.56 2014-12-08      197   \n",
       "1159610   1267341   22208        1   27.16 2014-10-29      197   \n",
       "1159612   1267343   22208        1   44.25 2014-12-13      197   \n",
       "\n",
       "                TranDescr  CourtOrdTran  CarFac  NumDays TranCatColl  \n",
       "1159607  Food - Groceries             0       0   1757.0        Food  \n",
       "1159608  Food - Groceries             0       0   1752.0        Food  \n",
       "1159609  Food - Groceries             0       0   1799.0        Food  \n",
       "1159610  Food - Groceries             0       0   1759.0        Food  \n",
       "1159612  Food - Groceries             0       0   1804.0        Food  "
      ]
     },
     "execution_count": 59,
     "metadata": {},
     "output_type": "execute_result"
    }
   ],
   "source": [
    "df['TranCatColl'] = df['TranDescr'].map(expense_collect)\n",
    "df.tail()"
   ]
  },
  {
   "cell_type": "code",
   "execution_count": 16,
   "metadata": {
    "collapsed": true
   },
   "outputs": [],
   "source": [
    "def counting_neighbours(cat, df):\n",
    "    '''\n",
    "    \n",
    "    This function works on one category of expenses at a time. It takes in a \n",
    "    dataframe that has CaseFileID, expense category, expense amount and for each \n",
    "    CaseFileID the duration for which the person is on the database.\n",
    "    \n",
    "    It outputs a CSV file written using NumPy. It has one line for each person on \n",
    "    the database. The columns are-\n",
    "    \n",
    "    1. CaseFile ID\n",
    "    2. Number of transactions in that given category, normlized to the duration for \n",
    "    which the person is on the Database.\n",
    "    3. Dollar amount spent in that category, normalized to the total amount spend for\n",
    "    that person, in that given category.\n",
    "    4. Number of neighbours within median distance between the points.\n",
    "    \n",
    "    '''\n",
    "    \n",
    "    \n",
    "    average = df[df['TranCatColl']==cat].groupby('CasFil')['Amount'].mean()\n",
    "    count = df[df['TranCatColl']==cat].groupby('CasFil')['Amount'].count()\n",
    "    dura = df[df['TranCatColl']==cat].groupby('CasFil')['NumDays'].mean()\n",
    "    count = np.array(count/dura)\n",
    "    casfil = np.array(dura.index)\n",
    "    aver = np.array(average.values)\n",
    "    norm_aver = aver * np.max(count) / np.max(aver)\n",
    "    \n",
    "    if np.sum(dura.index == aver.index) != 1:\n",
    "        print 'Alarm, indeces do not match for ', cat\n",
    "        break\n",
    "\n",
    "    arr = np.stack((casfil, count, norm_aver), axis=1)\n",
    "\n",
    "    dist = []\n",
    "    length = len(arr)\n",
    "    for i in xrange(length):\n",
    "        for j in xrange(i+1, length):\n",
    "            dist.append(np.linalg.norm(arr[i, 1:] - arr[j, 1:]))\n",
    "\n",
    "    med = np.median(dist)\n",
    "\n",
    "    neighbours = []\n",
    "    for i in xrange(length):\n",
    "        dist = []\n",
    "        for j in xrange(length):\n",
    "            if i != j:\n",
    "                dist.append(np.linalg.norm(arr[i, 1:] - arr[j, 1:]))\n",
    "        dist = np.array(dist)\n",
    "        neighbours.append(np.sum(dist < med))\n",
    "    neighbours = np.array(neighbours)\n",
    "    rank = neighbours / np.max(neighbours)\n",
    "\n",
    "    arr = np.stack((casfil, count, aver, neighbours), axis =1)\n",
    "\n",
    "    filename = cat + str('.csv')\n",
    "    np.savetxt(filename, arr, delimiter=',')"
   ]
  },
  {
   "cell_type": "code",
   "execution_count": 32,
   "metadata": {
    "collapsed": true
   },
   "outputs": [],
   "source": [
    "average = df[df['TranCatColl']==cat].groupby('CasFil')['Amount'].mean()\n",
    "count = df[df['TranCatColl']==cat].groupby('CasFil')['Amount'].count()\n",
    "dura = df[df['TranCatColl']==cat].groupby('CasFil')['NumDays'].mean()\n",
    "count = np.array(count/dura)\n",
    "casfil = np.array(dura.index)\n",
    "aver = np.array(average.values)\n",
    "norm_aver = aver * np.max(count) / np.max(aver)"
   ]
  },
  {
   "cell_type": "code",
   "execution_count": 18,
   "metadata": {
    "collapsed": false
   },
   "outputs": [],
   "source": [
    "collected_categories = df['TranCatColl'].unique()"
   ]
  },
  {
   "cell_type": "code",
   "execution_count": null,
   "metadata": {
    "collapsed": true
   },
   "outputs": [],
   "source": [
    "for cat in collected_categories:\n",
    "    counting_neighbours(cat)"
   ]
  },
  {
   "cell_type": "code",
   "execution_count": 142,
   "metadata": {
    "collapsed": false
   },
   "outputs": [],
   "source": [
    "def read_csv_to_df(csv_name):\n",
    "    '''\n",
    "    pd.read_csv with desired column names and header = None\n",
    "    '''\n",
    "    \n",
    "    \n",
    "    df1 = pd.read_csv(csv_name, header=None, \n",
    "                 names = ['CasFil', 'Norm Count', 'Average Expense', 'Neighbours'])\n",
    "    df1['Rank'] = df1['Neighbours'] / df1['Neighbours'].max()\n",
    "    \n",
    "    return df1\n",
    "\n",
    "df1 = read_csv_to_df((collected_categories[0] + str('.csv')))\n",
    "\n",
    "\n",
    "for cat in collected_categories[1:]:\n",
    "    df2 = read_csv_to_df(cat + str('.csv'))\n",
    "    df1 = pd.merge(df1, df2, how='outer', left_on='CasFil', right_on='CasFil', sort=True)\n",
    "    df1.fillna(0, inplace=True)\n",
    "    col_to_keep = ['CasFil', 'Rank_x', 'Rank_y']\n",
    "    df1 = df1[col_to_keep]\n",
    "    df1['Rank'] = df1['Rank_x'] + df1['Rank_y']\n",
    "    df1 = df1[['CasFil', 'Rank']]\n",
    "    \n",
    "\n",
    "df1['CasFil'] =df1['CasFil'].astype(int)"
   ]
  },
  {
   "cell_type": "code",
   "execution_count": 143,
   "metadata": {
    "collapsed": false
   },
   "outputs": [],
   "source": [
    "average = df.groupby('CasFil')['Amount'].mean()\n",
    "count = df.groupby('CasFil')['Amount'].count()\n",
    "dura = df.groupby('CasFil')['NumDays'].mean()\n",
    "count = count/dura"
   ]
  },
  {
   "cell_type": "code",
   "execution_count": 144,
   "metadata": {
    "collapsed": false
   },
   "outputs": [
    {
     "data": {
      "text/html": [
       "<div>\n",
       "<table border=\"1\" class=\"dataframe\">\n",
       "  <thead>\n",
       "    <tr style=\"text-align: right;\">\n",
       "      <th></th>\n",
       "      <th>CasFil</th>\n",
       "      <th>Rank</th>\n",
       "      <th>CountPerDay</th>\n",
       "      <th>AverageExpense</th>\n",
       "    </tr>\n",
       "  </thead>\n",
       "  <tbody>\n",
       "    <tr>\n",
       "      <th>0</th>\n",
       "      <td>4815</td>\n",
       "      <td>1.693161</td>\n",
       "      <td>0.001921</td>\n",
       "      <td>568.666667</td>\n",
       "    </tr>\n",
       "    <tr>\n",
       "      <th>1</th>\n",
       "      <td>4816</td>\n",
       "      <td>0.723497</td>\n",
       "      <td>0.000640</td>\n",
       "      <td>500.000000</td>\n",
       "    </tr>\n",
       "    <tr>\n",
       "      <th>2</th>\n",
       "      <td>4818</td>\n",
       "      <td>0.000000</td>\n",
       "      <td>0.000640</td>\n",
       "      <td>560.000000</td>\n",
       "    </tr>\n",
       "    <tr>\n",
       "      <th>3</th>\n",
       "      <td>4820</td>\n",
       "      <td>0.000000</td>\n",
       "      <td>0.000640</td>\n",
       "      <td>456.000000</td>\n",
       "    </tr>\n",
       "    <tr>\n",
       "      <th>4</th>\n",
       "      <td>4821</td>\n",
       "      <td>0.000000</td>\n",
       "      <td>0.000640</td>\n",
       "      <td>120.000000</td>\n",
       "    </tr>\n",
       "  </tbody>\n",
       "</table>\n",
       "</div>"
      ],
      "text/plain": [
       "   CasFil      Rank  CountPerDay  AverageExpense\n",
       "0    4815  1.693161     0.001921      568.666667\n",
       "1    4816  0.723497     0.000640      500.000000\n",
       "2    4818  0.000000     0.000640      560.000000\n",
       "3    4820  0.000000     0.000640      456.000000\n",
       "4    4821  0.000000     0.000640      120.000000"
      ]
     },
     "execution_count": 144,
     "metadata": {},
     "output_type": "execute_result"
    }
   ],
   "source": [
    "count = count.to_frame(name = 'CountPerDay')\n",
    "count['AverageExpense'] = average\n",
    "df1 = df1.join(count, how='inner', on='CasFil')\n",
    "df1.head()"
   ]
  },
  {
   "cell_type": "code",
   "execution_count": 186,
   "metadata": {
    "collapsed": false
   },
   "outputs": [
    {
     "data": {
      "text/plain": [
       "<matplotlib.collections.PathCollection at 0x7f2d054b01d0>"
      ]
     },
     "execution_count": 186,
     "metadata": {},
     "output_type": "execute_result"
    },
    {
     "data": {
      "image/png": "[encoded data removed]",
      "text/plain": [
       "<matplotlib.figure.Figure at 0x7f2d055216d0>"
      ]
     },
     "metadata": {},
     "output_type": "display_data"
    }
   ],
   "source": [
    "col = (df1['Rank']/df1['Rank'].max() > 0.3).replace({True : 'g', False: 'r'})\n",
    "plt.figure(figsize=(12, 8))\n",
    "plt.scatter(df1['AverageExpense'], df1['CountPerDay'], c=col, alpha=0.1)"
   ]
  },
  {
   "cell_type": "code",
   "execution_count": 147,
   "metadata": {
    "collapsed": false
   },
   "outputs": [
    {
     "data": {
      "text/plain": [
       "<matplotlib.axes._subplots.AxesSubplot at 0x7f2cde27d7d0>"
      ]
     },
     "execution_count": 147,
     "metadata": {},
     "output_type": "execute_result"
    },
    {
     "data": {
      "image/png": "[encoded data removed]",
      "text/plain": [
       "<matplotlib.figure.Figure at 0x7f2ce29f06d0>"
      ]
     },
     "metadata": {},
     "output_type": "display_data"
    }
   ],
   "source": [
    "df1['Rank'].hist()"
   ]
  },
  {
   "cell_type": "code",
   "execution_count": null,
   "metadata": {
    "collapsed": true
   },
   "outputs": [],
   "source": []
  }
 ],
 "metadata": {
  "kernelspec": {
   "display_name": "Python 2",
   "language": "python",
   "name": "python2"
  },
  "language_info": {
   "codemirror_mode": {
    "name": "ipython",
    "version": 2
   },
   "file_extension": ".py",
   "mimetype": "text/x-python",
   "name": "python",
   "nbconvert_exporter": "python",
   "pygments_lexer": "ipython2",
   "version": "2.7.13"
  }
 },
 "nbformat": 4,
 "nbformat_minor": 2
}
